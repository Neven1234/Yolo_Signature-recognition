{
  "cells": [
    {
      "cell_type": "markdown",
      "metadata": {
        "id": "view-in-github",
        "colab_type": "text"
      },
      "source": [
        "<a href=\"https://colab.research.google.com/github/Neven1234/PreRequiered-Courses/blob/main/Copy_of_Copy_of_yolos5.ipynb\" target=\"_parent\"><img src=\"https://colab.research.google.com/assets/colab-badge.svg\" alt=\"Open In Colab\"/></a>"
      ]
    },
    {
      "cell_type": "markdown",
      "metadata": {
        "id": "5cllZXNe1IS3"
      },
      "source": [
        "# DAta unzip\n"
      ]
    },
    {
      "cell_type": "code",
      "execution_count": null,
      "metadata": {
        "id": "JFCGaTLN1CwI"
      },
      "outputs": [],
      "source": [
        "!pip install unrar\n",
        "!unrar x /content/DATA.rar"
      ]
    },
    {
      "cell_type": "markdown",
      "metadata": {
        "id": "7FbtwNHd1MU5"
      },
      "source": [
        "#CLONING THE YOLO-V5 FILES FROM OFFICIAL REPOSITORY"
      ]
    },
    {
      "cell_type": "code",
      "execution_count": null,
      "metadata": {
        "id": "WrLxzDr31Oj_"
      },
      "outputs": [],
      "source": [
        "!git clone https://github.com/ultralytics/yolov5.git"
      ]
    },
    {
      "cell_type": "markdown",
      "metadata": {
        "id": "kuZY2k141Qbt"
      },
      "source": [
        "#CHANGING THE DIRECTORY"
      ]
    },
    {
      "cell_type": "code",
      "execution_count": null,
      "metadata": {
        "id": "TICDiIkJ1Tmx"
      },
      "outputs": [],
      "source": [
        "%cd yolov5/\n"
      ]
    },
    {
      "cell_type": "markdown",
      "metadata": {
        "id": "ggWh2rcu1WHa"
      },
      "source": [
        "#INSTALLING THE DEPENDENCIES"
      ]
    },
    {
      "cell_type": "code",
      "execution_count": null,
      "metadata": {
        "id": "3UybsYE71anT"
      },
      "outputs": [],
      "source": [
        "!pip install -r requirements.txt"
      ]
    },
    {
      "cell_type": "markdown",
      "metadata": {
        "id": "LCzgQe601c3R"
      },
      "source": [
        "#DOWNLOADING ALL VERSIONS OF YOLO-V5 MODEL"
      ]
    },
    {
      "cell_type": "code",
      "execution_count": null,
      "metadata": {
        "id": "7r1W9k4Y1g6Q"
      },
      "outputs": [],
      "source": [
        "!curl -L \"https://github.com/ultralytics/yolov5/releases/download/v5.0/yolov5s.pt\" > yolov5s.pt\n",
        "!curl -L \"https://github.com/ultralytics/yolov5/releases/download/v5.0/yolov5m.pt\" > yolov5m.pt\n",
        "!curl -L \"https://github.com/ultralytics/yolov5/releases/download/v5.0/yolov5l.pt\" > yolov5l.pt\n",
        "!curl -L \"https://github.com/ultralytics/yolov5/releases/download/v5.0/yolov5x.pt\" > yolov5x.pt"
      ]
    },
    {
      "cell_type": "markdown",
      "metadata": {
        "id": "Mu9Bs_LQ1jfe"
      },
      "source": [
        "#converting labels"
      ]
    },
    {
      "cell_type": "markdown",
      "metadata": {
        "id": "hgoho2LS1qRq"
      },
      "source": []
    },
    {
      "cell_type": "code",
      "execution_count": null,
      "metadata": {
        "id": "n551-x5v1sFy"
      },
      "outputs": [],
      "source": [
        "pip install pybboxes"
      ]
    },
    {
      "cell_type": "code",
      "execution_count": null,
      "metadata": {
        "id": "qqg4tWRS1tb1"
      },
      "outputs": [],
      "source": [
        "import pybboxes as pbx\n",
        "from PIL import Image\n",
        "import os\n",
        "W,H=1000,1000\n",
        "directory ='/content/Train/labels'\n",
        "for filename in os.listdir(directory):\n",
        "  f=os.path.join(directory,filename)\n",
        "  label_file= open(f,'r')\n",
        "  dimensions=label_file.readline().split(',')\n",
        "  if(len(dimensions)==1):\n",
        "    countinue\n",
        "  voc_bbox=(int(dimensions[0]),int(dimensions[1]),int(dimensions[2]),int(dimensions[3]))\n",
        "  x=pbx.convert_bbox(voc_bbox,from_type='voc',to_type='yolo',image_size=(W,H))\n",
        "  s1='0 '+str(x[0])+\" \"+str(x[1])+\" \"+str(x[2])+\" \"+str(x[3])\n",
        "  label_file.close()\n",
        "  label_file=open(f,'w')\n",
        "  label_file.write(s1)"
      ]
    },
    {
      "cell_type": "code",
      "execution_count": null,
      "metadata": {
        "id": "vPLir_M21wKk"
      },
      "outputs": [],
      "source": [
        "import pybboxes as pbx\n",
        "from PIL import Image\n",
        "import os\n",
        "W,H=1000,1000\n",
        "directory ='/content/Test/labels'\n",
        "for filename in os.listdir(directory):\n",
        "  f=os.path.join(directory,filename)\n",
        "  label_file= open(f,'r')\n",
        "  dimensions=label_file.readline().split(',')\n",
        "  if(len(dimensions)==1):\n",
        "    countinue\n",
        "  voc_bbox=(int(dimensions[0]),int(dimensions[1]),int(dimensions[2]),int(dimensions[3]))\n",
        "  x=pbx.convert_bbox(voc_bbox,from_type='voc',to_type='yolo',image_size=(W,H))\n",
        "  s1='0 '+str(x[0])+\" \"+str(x[1])+\" \"+str(x[2])+\" \"+str(x[3])\n",
        "  label_file.close()\n",
        "  label_file=open(f,'w')\n",
        "  label_file.write(s1)"
      ]
    },
    {
      "cell_type": "markdown",
      "metadata": {
        "id": "cVf_sR8u1zL8"
      },
      "source": [
        "#TRAINING THE YOLO-V5 MODEL"
      ]
    },
    {
      "cell_type": "code",
      "execution_count": null,
      "metadata": {
        "id": "ykXQdIgo13K0"
      },
      "outputs": [],
      "source": [
        "!python train.py --img 416 --batch 8 --epochs 20 --data coco128.yaml --weights yolov5s.pt --nosave --cache "
      ]
    },
    {
      "cell_type": "markdown",
      "metadata": {
        "id": "gQ2EIHN1drbT"
      },
      "source": [
        "#VISUALIZING THE TRAINING METRICS"
      ]
    },
    {
      "cell_type": "code",
      "execution_count": null,
      "metadata": {
        "id": "Ox26_wgOdu8L"
      },
      "outputs": [],
      "source": [
        "\n",
        "%load_ext tensorboard\n",
        "%tensorboard --logdir runs/train"
      ]
    },
    {
      "cell_type": "markdown",
      "metadata": {
        "id": "LcYvM2rhdzUa"
      },
      "source": [
        "#TESTING"
      ]
    },
    {
      "cell_type": "code",
      "execution_count": null,
      "metadata": {
        "id": "j6BrW2SZeAvb"
      },
      "outputs": [],
      "source": [
        "\n",
        "!python val.py --weights /content/yolov5/runs/train/exp4/weights/last.pt --data coco128.yaml --img 416\n"
      ]
    },
    {
      "cell_type": "markdown",
      "metadata": {
        "id": "4-QdQxhjfwfC"
      },
      "source": [
        "#save as Pickle "
      ]
    },
    {
      "cell_type": "code",
      "execution_count": null,
      "metadata": {
        "colab": {
          "background_save": true
        },
        "id": "fWyD0oa7f0ZU"
      },
      "outputs": [],
      "source": [
        "import pickle"
      ]
    },
    {
      "cell_type": "code",
      "execution_count": null,
      "metadata": {
        "id": "N-K1Zv0hlEjD"
      },
      "outputs": [],
      "source": []
    }
  ],
  "metadata": {
    "colab": {
      "provenance": [],
      "private_outputs": true,
      "mount_file_id": "108cf13mKHm8goXZHI81oZmyZUMZ11KNL",
      "authorship_tag": "ABX9TyNmICgeCv37og3Iwvk9Rpkx",
      "include_colab_link": true
    },
    "kernelspec": {
      "display_name": "Python 3",
      "name": "python3"
    },
    "language_info": {
      "name": "python"
    },
    "accelerator": "GPU",
    "gpuClass": "standard"
  },
  "nbformat": 4,
  "nbformat_minor": 0
}